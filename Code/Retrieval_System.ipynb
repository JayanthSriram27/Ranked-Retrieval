{
  "nbformat": 4,
  "nbformat_minor": 0,
  "metadata": {
    "accelerator": "GPU",
    "colab": {
      "name": "Retrieval_System.ipynb",
      "provenance": [],
      "collapsed_sections": []
    },
    "kernelspec": {
      "display_name": "Python 3",
      "name": "python3"
    },
    "language_info": {
      "name": "python"
    }
  },
  "cells": [
    {
      "cell_type": "markdown",
      "source": [
        "##***Ranked Retrieval System***\n"
      ],
      "metadata": {
        "id": "Gt1v3KQUn7-r"
      }
    },
    {
      "cell_type": "code",
      "metadata": {
        "colab": {
          "base_uri": "https://localhost:8080/"
        },
        "id": "2NzaXyqw7Tkv",
        "outputId": "e183d0a3-3dca-4046-c0c6-8772872e399c"
      },
      "source": [
        "import pandas as pd\n",
        "\n",
        "df = pd.read_excel('/content/ConceptualCaptionsDataset.xlsx',header = None)\n",
        "\n",
        "first_column = df.iloc[:10, 0]\n",
        "print(first_column) "
      ],
      "execution_count": 1,
      "outputs": [
        {
          "output_type": "stream",
          "name": "stdout",
          "text": [
            "0                           a very typical bus station\n",
            "1    sierra looked stunning in this top and this sk...\n",
            "2    young confused girl standing in front of a war...\n",
            "3    interior design of modern living room with fir...\n",
            "4      cybernetic scene isolated on white background .\n",
            "5    gangsta rap artist attends sports team vs play...\n",
            "6    the jetty : different types of plants to estab...\n",
            "7     traditional ornamental floral paisley bandanna .\n",
            "8    # of the sports team skates against sports tea...\n",
            "9    by geographical feature category or in the cit...\n",
            "Name: 0, dtype: object\n"
          ]
        }
      ]
    },
    {
      "cell_type": "code",
      "metadata": {
        "colab": {
          "base_uri": "https://localhost:8080/"
        },
        "id": "NQdV3qC_7wVV",
        "outputId": "384c0cd4-95c3-4fdf-b062-83c161433c2f"
      },
      "source": [
        "print(df.shape)"
      ],
      "execution_count": 2,
      "outputs": [
        {
          "output_type": "stream",
          "name": "stdout",
          "text": [
            "(30000, 2)\n"
          ]
        }
      ]
    },
    {
      "cell_type": "code",
      "metadata": {
        "id": "O3VZDXwzzYKY"
      },
      "source": [
        "N = 2000"
      ],
      "execution_count": 3,
      "outputs": []
    },
    {
      "cell_type": "markdown",
      "source": [
        "## **Printing Documents**"
      ],
      "metadata": {
        "id": "r7h3QIxl7kM1"
      }
    },
    {
      "cell_type": "code",
      "metadata": {
        "colab": {
          "base_uri": "https://localhost:8080/"
        },
        "id": "IPUFNclp80L-",
        "outputId": "171abd75-4d81-47e9-bae0-bbce61dc34de"
      },
      "source": [
        "documents = list()\n",
        "for i in range(N):\n",
        "  documents.append(df.iloc[i, 0])\n",
        "  # print(df.iloc[i, 0])\n",
        "for i in range(10):\n",
        "  # documents.append(df.iloc[i, 0])\n",
        "  print(df.iloc[i, 0])"
      ],
      "execution_count": 4,
      "outputs": [
        {
          "output_type": "stream",
          "name": "stdout",
          "text": [
            "a very typical bus station\n",
            "sierra looked stunning in this top and this skirt while performing with person at their former university\n",
            "young confused girl standing in front of a wardrobe\n",
            "interior design of modern living room with fireplace in a new house\n",
            "cybernetic scene isolated on white background .\n",
            "gangsta rap artist attends sports team vs playoff game in the borough .\n",
            "the jetty : different types of plants to establish a variety of ecosystems .\n",
            "traditional ornamental floral paisley bandanna .\n",
            "# of the sports team skates against sports team during their game .\n",
            "by geographical feature category or in the city - a dome for every environment\n"
          ]
        }
      ]
    },
    {
      "cell_type": "code",
      "metadata": {
        "id": "NBEhk5HG9jDB"
      },
      "source": [
        "documents_split = list()\n",
        "for i in range(N):\n",
        "  documents_split.append(documents[i].split())\n",
        "# print(documents_split)\n",
        "# print(set(documents_split))"
      ],
      "execution_count": 5,
      "outputs": []
    },
    {
      "cell_type": "markdown",
      "source": [
        "# **Removing punctuations and symbols**"
      ],
      "metadata": {
        "id": "ObwR-1E0ql1g"
      }
    },
    {
      "cell_type": "code",
      "source": [
        "# initializing punctuations string\n",
        "punc = '''!()-[]{};:'\"\\,<>./?@#$%^&*_~'''\n",
        "import copy\n",
        "document = copy.deepcopy(documents)\n",
        "# Removing punctuations in string\n",
        "# Using loop + punctuation string\n",
        "for i in range(len(documents)):\n",
        "  for ele in documents[i]:\n",
        "      if ele in punc:\n",
        "          document[i] = document[i].replace(ele, \"\")"
      ],
      "metadata": {
        "id": "1RSuezb1qle5"
      },
      "execution_count": 6,
      "outputs": []
    },
    {
      "cell_type": "markdown",
      "source": [
        "## **BAG OF WORDS**"
      ],
      "metadata": {
        "id": "GE6GyirD7vWL"
      }
    },
    {
      "cell_type": "code",
      "metadata": {
        "id": "JbMUEXkH-Eun"
      },
      "source": [
        "all_words = list()\n",
        "for i in range(N):\n",
        "  all_words = documents_split[i] + all_words\n",
        "\n",
        "# print(set(all_words))"
      ],
      "execution_count": 7,
      "outputs": []
    },
    {
      "cell_type": "code",
      "metadata": {
        "id": "ldjvpYEd-olx"
      },
      "source": [
        "def word_count(string_inp):\n",
        "  my_string = string_inp.lower().split()\n",
        "  my_dict = {}\n",
        "  for item in set(all_words):\n",
        "    my_dict[item] = my_string.count(item)\n",
        "  return my_dict"
      ],
      "execution_count": 8,
      "outputs": []
    },
    {
      "cell_type": "code",
      "metadata": {
        "colab": {
          "base_uri": "https://localhost:8080/"
        },
        "id": "bA33BQlT_BSq",
        "outputId": "659ba392-da5f-48c8-b8c8-ae3db895976d"
      },
      "source": [
        "print((list(word_count(documents[0]).items())[:10]))"
      ],
      "execution_count": 9,
      "outputs": [
        {
          "output_type": "stream",
          "name": "stdout",
          "text": [
            "[('sunset', 0), ('me', 0), ('metal', 0), ('beginners', 0), ('located', 0), ('iconic', 0), ('skin', 0), ('cleaning', 0), ('camper', 0), ('medical', 0)]\n"
          ]
        }
      ]
    },
    {
      "cell_type": "code",
      "metadata": {
        "id": "lqJpsbX7BIzV"
      },
      "source": [
        "freq_dict = {}"
      ],
      "execution_count": 10,
      "outputs": []
    },
    {
      "cell_type": "code",
      "metadata": {
        "id": "y-cpFZ6n_GBx"
      },
      "source": [
        "#initialising the frequency dictionaty to store document frequency of terms\n",
        "def freqq(string_inp):\n",
        "  my_string = string_inp.lower().split()\n",
        "  for item in set(all_words): \n",
        "      freq_dict[item] = 0"
      ],
      "execution_count": 11,
      "outputs": []
    },
    {
      "cell_type": "code",
      "metadata": {
        "id": "zYDCCyK7ApxJ"
      },
      "source": [
        "def freq(string_inp):\n",
        "  my_string = string_inp.lower().split()\n",
        "  for item in set(all_words):\n",
        "    if my_string.count(item) >= 1:\n",
        "      freq_dict[item] = freq_dict[item] + 1"
      ],
      "execution_count": 12,
      "outputs": []
    },
    {
      "cell_type": "code",
      "metadata": {
        "id": "anuc_97qAxBg"
      },
      "source": [
        "freqq(documents[0])\n",
        "for i in range(N):\n",
        "  freq(documents[i])"
      ],
      "execution_count": 13,
      "outputs": []
    },
    {
      "cell_type": "code",
      "metadata": {
        "colab": {
          "base_uri": "https://localhost:8080/"
        },
        "id": "ITLw-wkmtAdJ",
        "outputId": "04024570-2fc4-4d26-eece-da4465815f44"
      },
      "source": [
        "print(list(freq_dict.items())[:10])"
      ],
      "execution_count": 14,
      "outputs": [
        {
          "output_type": "stream",
          "name": "stdout",
          "text": [
            "[('sunset', 21), ('me', 7), ('metal', 7), ('beginners', 1), ('located', 8), ('iconic', 2), ('skin', 1), ('cleaning', 1), ('camper', 1), ('medical', 1)]\n"
          ]
        }
      ]
    },
    {
      "cell_type": "markdown",
      "source": [
        "# **calculating idf**"
      ],
      "metadata": {
        "id": "ZBjIWFXfEhMo"
      }
    },
    {
      "cell_type": "code",
      "metadata": {
        "id": "hMxGJkRLFJvm"
      },
      "source": [
        "\n",
        "import math\n",
        "idf_dic = {}\n",
        "for a,b in freq_dict.items():\n",
        "  if b!=0:\n",
        "    idf_dic[a] = math.log(N/b,2)"
      ],
      "execution_count": 15,
      "outputs": []
    },
    {
      "cell_type": "markdown",
      "source": [
        "**IDF - Values**"
      ],
      "metadata": {
        "id": "Ut3YWY5s97Gy"
      }
    },
    {
      "cell_type": "code",
      "metadata": {
        "colab": {
          "base_uri": "https://localhost:8080/"
        },
        "id": "llqUomcbtVoZ",
        "outputId": "fd4f464b-ea0c-42ce-ef0d-814e53744104"
      },
      "source": [
        "print(list(idf_dic.items())[:10])"
      ],
      "execution_count": 16,
      "outputs": [
        {
          "output_type": "stream",
          "name": "stdout",
          "text": [
            "[('sunset', 6.573466861883327), ('me', 8.158429362604483), ('metal', 8.158429362604483), ('beginners', 10.965784284662087), ('located', 7.965784284662087), ('iconic', 9.965784284662087), ('skin', 10.965784284662087), ('cleaning', 10.965784284662087), ('camper', 10.965784284662087), ('medical', 10.965784284662087)]\n"
          ]
        }
      ]
    },
    {
      "cell_type": "code",
      "metadata": {
        "id": "vc_fgUYzBDyi"
      },
      "source": [
        "tf_dict = list()\n",
        "# wf_dict = list()\n",
        "for i in range(N):\n",
        "  tf_dict.append(word_count(documents[i]))\n",
        "  # wf_dict.append(dict())"
      ],
      "execution_count": 17,
      "outputs": []
    },
    {
      "cell_type": "markdown",
      "source": [
        "# **TERM FREQUENCIES**"
      ],
      "metadata": {
        "id": "9Epak3KZUr-M"
      }
    },
    {
      "cell_type": "code",
      "metadata": {
        "colab": {
          "base_uri": "https://localhost:8080/"
        },
        "id": "gmVwmF9Rt4fZ",
        "outputId": "b92cecf8-4130-48f9-a06c-19c595bbd64c"
      },
      "source": [
        "print(list(tf_dict[0].items())[:10])"
      ],
      "execution_count": 18,
      "outputs": [
        {
          "output_type": "stream",
          "name": "stdout",
          "text": [
            "[('sunset', 0), ('me', 0), ('metal', 0), ('beginners', 0), ('located', 0), ('iconic', 0), ('skin', 0), ('cleaning', 0), ('camper', 0), ('medical', 0)]\n"
          ]
        }
      ]
    },
    {
      "cell_type": "code",
      "metadata": {
        "id": "NH4zgHaNwAww"
      },
      "source": [
        "import copy\n",
        "weight =  copy.deepcopy(tf_dict)"
      ],
      "execution_count": 19,
      "outputs": []
    },
    {
      "cell_type": "markdown",
      "source": [
        "# **Calculating tf-idf**"
      ],
      "metadata": {
        "id": "OMkuPwztGSOt"
      }
    },
    {
      "cell_type": "code",
      "metadata": {
        "id": "BPhBJJOJCxD_"
      },
      "source": [
        "i = 0\n",
        "for i in range(len(weight)):\n",
        "  for a,b in tf_dict[i].items():\n",
        "    weight[i][a] = b * idf_dic[a]"
      ],
      "execution_count": 20,
      "outputs": []
    },
    {
      "cell_type": "code",
      "metadata": {
        "colab": {
          "base_uri": "https://localhost:8080/"
        },
        "id": "j3lowJV2EKNT",
        "outputId": "8da9e51f-1394-4c00-a73b-3a85b6763b77"
      },
      "source": [
        "print(list(weight[2].items())[:10])"
      ],
      "execution_count": 21,
      "outputs": [
        {
          "output_type": "stream",
          "name": "stdout",
          "text": [
            "[('sunset', 0.0), ('me', 0.0), ('metal', 0.0), ('beginners', 0.0), ('located', 0.0), ('iconic', 0.0), ('skin', 0.0), ('cleaning', 0.0), ('camper', 0.0), ('medical', 0.0)]\n"
          ]
        }
      ]
    },
    {
      "cell_type": "markdown",
      "source": [
        "## **Query part**"
      ],
      "metadata": {
        "id": "08C9gR7mYKpA"
      }
    },
    {
      "cell_type": "code",
      "metadata": {
        "colab": {
          "base_uri": "https://localhost:8080/"
        },
        "id": "4_6H4K0m07_m",
        "outputId": "725efd49-50e9-4409-80e4-f49bff2645d4"
      },
      "source": [
        "print(\"Enter the query:\")\n",
        "query = input()"
      ],
      "execution_count": 22,
      "outputs": [
        {
          "name": "stdout",
          "output_type": "stream",
          "text": [
            "Enter the query:\n",
            "cybernetic scene isolated on white background\n"
          ]
        }
      ]
    },
    {
      "cell_type": "markdown",
      "source": [
        "**Tf for the query**"
      ],
      "metadata": {
        "id": "snvhhhUFITuv"
      }
    },
    {
      "cell_type": "code",
      "metadata": {
        "id": "USaot-WU1eno"
      },
      "source": [
        "tf_query = word_count(query)"
      ],
      "execution_count": 23,
      "outputs": []
    },
    {
      "cell_type": "code",
      "metadata": {
        "id": "252uRLwc2SgB"
      },
      "source": [
        "wf_query = copy.deepcopy(tf_query)"
      ],
      "execution_count": 24,
      "outputs": []
    },
    {
      "cell_type": "code",
      "metadata": {
        "id": "F6Q7tE4L1eif"
      },
      "source": [
        "for a,b in tf_query.items():\n",
        "    wf_query[a] = b * idf_dic[a]"
      ],
      "execution_count": 25,
      "outputs": []
    },
    {
      "cell_type": "code",
      "metadata": {
        "id": "LF5ZvmtuEONV"
      },
      "source": [
        "def distance_comp(rn_dict):\n",
        "  dist = 0\n",
        "  for a,b in wf_query.items():\n",
        "    dist = dist + pow(b - rn_dict[a] , 2)\n",
        "  return math.sqrt(dist)"
      ],
      "execution_count": 26,
      "outputs": []
    },
    {
      "cell_type": "code",
      "metadata": {
        "id": "bVBsvzCS0ld3"
      },
      "source": [
        "dist = list()\n",
        "for i in range(N):\n",
        "  #print(weight[i])\n",
        "  dist.append(distance_comp(weight[i]))"
      ],
      "execution_count": 27,
      "outputs": []
    },
    {
      "cell_type": "markdown",
      "source": [
        "## **Euclidean Distance between other docs to the query**"
      ],
      "metadata": {
        "id": "wVb5wFFUYb2M"
      }
    },
    {
      "cell_type": "code",
      "metadata": {
        "colab": {
          "base_uri": "https://localhost:8080/"
        },
        "id": "L2AD_QFD0kpu",
        "outputId": "8a306d94-9491-4bfa-c509-c4b601d1aa6c"
      },
      "source": [
        "for i in range(10):\n",
        "  print(dist[i],end=\" \")"
      ],
      "execution_count": 28,
      "outputs": [
        {
          "output_type": "stream",
          "name": "stdout",
          "text": [
            "24.071777286213692 34.68730587872923 25.897915189544413 27.34938082158917 1.4659383975788818 31.537179246332432 31.93257597206396 26.92744268771252 28.699121705684615 29.333139935752282 "
          ]
        }
      ]
    },
    {
      "cell_type": "code",
      "metadata": {
        "id": "WJBHUZ4h4xWG"
      },
      "source": [
        "similarity_list = list()\n",
        "for i in range(N):\n",
        "  similarity_list.append(1 / (1 + dist[i]))"
      ],
      "execution_count": 29,
      "outputs": []
    },
    {
      "cell_type": "markdown",
      "source": [
        "## **Similarity between docs and the query**"
      ],
      "metadata": {
        "id": "pZkmz6IoYjMr"
      }
    },
    {
      "cell_type": "code",
      "metadata": {
        "colab": {
          "base_uri": "https://localhost:8080/"
        },
        "id": "eztsM4V35Zzr",
        "outputId": "64e6661c-231a-4e78-dcff-66edaeb2a487"
      },
      "source": [
        "for i in range(10):\n",
        "  print(similarity_list[i],end = \" \")"
      ],
      "execution_count": 30,
      "outputs": [
        {
          "output_type": "stream",
          "name": "stdout",
          "text": [
            "0.03988548512473719 0.028021168182270434 0.03717760253734139 0.03527413901182846 0.4055251343593272 0.030734071703917586 0.030365070769085293 0.03580707375115225 0.03367102939642128 0.03296724315774991 "
          ]
        }
      ]
    },
    {
      "cell_type": "markdown",
      "source": [
        "## **Top 10 Ranked documents for the given query using euclidean similarity measure**"
      ],
      "metadata": {
        "id": "iJPlJHpsWUiJ"
      }
    },
    {
      "cell_type": "code",
      "metadata": {
        "colab": {
          "base_uri": "https://localhost:8080/"
        },
        "id": "FIQrKZ9-7IUN",
        "outputId": "44944170-405a-426a-af0e-cbd8c4326c7c"
      },
      "source": [
        "print(\"GIVEN QUERY - \",query)\n",
        "print()\n",
        "print(\"--------Top 10 ranked documents-------\")\n",
        "print()\n",
        "import numpy \n",
        "array_similarity_list = numpy.array(similarity_list)\n",
        "sort_index = numpy.argsort(array_similarity_list)\n",
        "# print(sort_index)\n",
        "for i in range(len(sort_index)-1,len(sort_index)-11,-1):\n",
        "  # print(sort_index[i])\n",
        "  print(df.iloc[sort_index[i],0],\"- index - \",sort_index[i])\n",
        "  print(df.iloc[sort_index[i],1])\n",
        "  print()"
      ],
      "execution_count": 31,
      "outputs": [
        {
          "output_type": "stream",
          "name": "stdout",
          "text": [
            "GIVEN QUERY -  cybernetic scene isolated on white background\n",
            "\n",
            "--------Top 10 ranked documents-------\n",
            "\n",
            "cybernetic scene isolated on white background . - index -  4\n",
            "साइबरनेटिक दृश्य सफेद पृष्ठभूमि पर अलग किया गया।\n",
            "\n",
            "vector illustration of person isolated on a white background - index -  61\n",
            "एक सफेद पृष्ठभूमि पर अलग व्यक्ति का वेक्टर चित्रण\n",
            "\n",
            "isolated water glass on a white background - index -  65\n",
            "एक सफेद पृष्ठभूमि पर पृथक पानी कांच\n",
            "\n",
            "wooden sign isolated on the white background . - index -  795\n",
            "सफेद पृष्ठभूमि पर अलग लकड़ी का संकेत।\n",
            "\n",
            "flowers left at the scene - index -  1118\n",
            "दृश्य दृश्य में छोड़ दिया\n",
            "\n",
            "black cat on a white background - index -  1006\n",
            "एक सफेद पृष्ठभूमि पर काली बिल्ली\n",
            "\n",
            "black bicycle isolated on a white background - index -  739\n",
            "एक सफेद पृष्ठभूमि पर काले साइकिल पृथक\n",
            "\n",
            "vector of a logo on a white background . - index -  208\n",
            "एक सफेद पृष्ठभूमि पर एक लोगो के वेक्टर।\n",
            "\n",
            "watercolor christmas tree isolated on a white background . - index -  552\n",
            "एक सफेद पृष्ठभूमि पर पानी के रंग का पेड़ पृथक।\n",
            "\n",
            "green calculator isolated on a white background - index -  1249\n",
            "एक सफेद पृष्ठभूमि पर हरी कैलक्यूलेटर अलग किया गया\n",
            "\n"
          ]
        }
      ]
    },
    {
      "cell_type": "markdown",
      "source": [
        "## **COSINE SIMILARITY**"
      ],
      "metadata": {
        "id": "BASQPTgyJaS-"
      }
    },
    {
      "cell_type": "code",
      "source": [
        "from scipy import spatial\n",
        "\n",
        "similarity_list_cosine = list()\n",
        "for i in range(N):\n",
        "  similarity_list_cosine.append(1 - spatial.distance.cosine(list(wf_query.values()), list(weight[i].values())))"
      ],
      "metadata": {
        "id": "4k-LplHIJYMF"
      },
      "execution_count": 32,
      "outputs": []
    },
    {
      "cell_type": "code",
      "source": [
        "for i in range(10):\n",
        "  print(similarity_list_cosine[i],end=\" \")"
      ],
      "metadata": {
        "colab": {
          "base_uri": "https://localhost:8080/"
        },
        "id": "iBl8XVyDLPNa",
        "outputId": "5faed7cf-f4eb-4038-a146-6f426757ebb1"
      },
      "execution_count": 33,
      "outputs": [
        {
          "output_type": "stream",
          "name": "stdout",
          "text": [
            "0.0 0.0 0.0 0.0 0.9960871539584134 0.0 0.0 0.0 0.0 0.0 "
          ]
        }
      ]
    },
    {
      "cell_type": "markdown",
      "source": [
        "# **Top 10 Ranked documents using cosine similarity using cosine similarity**"
      ],
      "metadata": {
        "id": "WZHoPwCKKzt-"
      }
    },
    {
      "cell_type": "code",
      "source": [
        "print(\"GIVEN QUERY - \",query)\n",
        "print()\n",
        "print(\"--------Top 10 ranked documents using cosine similarity-------\")\n",
        "print()\n",
        "import numpy \n",
        "array_similarity_list = numpy.array(similarity_list_cosine)\n",
        "sort_index = numpy.argsort(similarity_list_cosine)\n",
        "# print(sort_index)\n",
        "for i in range(len(sort_index)-1,len(sort_index)-11,-1):\n",
        "  # print(sort_index[i])\n",
        "  print(df.iloc[sort_index[i],0],\"-index - \",sort_index[i])\n",
        "  print(df.iloc[sort_index[i],1])\n",
        "  print()"
      ],
      "metadata": {
        "colab": {
          "base_uri": "https://localhost:8080/"
        },
        "id": "y6Qg_5QoJjJU",
        "outputId": "7bddf866-2880-409a-fd3d-702201bd57f9"
      },
      "execution_count": 34,
      "outputs": [
        {
          "output_type": "stream",
          "name": "stdout",
          "text": [
            "GIVEN QUERY -  cybernetic scene isolated on white background\n",
            "\n",
            "--------Top 10 ranked documents using cosine similarity-------\n",
            "\n",
            "cybernetic scene isolated on white background . -index -  4\n",
            "साइबरनेटिक दृश्य सफेद पृष्ठभूमि पर अलग किया गया।\n",
            "\n",
            "vector illustration of person isolated on a white background -index -  61\n",
            "एक सफेद पृष्ठभूमि पर अलग व्यक्ति का वेक्टर चित्रण\n",
            "\n",
            "isolated water glass on a white background -index -  65\n",
            "एक सफेद पृष्ठभूमि पर पृथक पानी कांच\n",
            "\n",
            "wooden sign isolated on the white background . -index -  795\n",
            "सफेद पृष्ठभूमि पर अलग लकड़ी का संकेत।\n",
            "\n",
            "flowers left at the scene -index -  1118\n",
            "दृश्य दृश्य में छोड़ दिया\n",
            "\n",
            "black bicycle isolated on a white background -index -  739\n",
            "एक सफेद पृष्ठभूमि पर काले साइकिल पृथक\n",
            "\n",
            "watercolor christmas tree isolated on a white background . -index -  552\n",
            "एक सफेद पृष्ठभूमि पर पानी के रंग का पेड़ पृथक।\n",
            "\n",
            "green calculator isolated on a white background -index -  1249\n",
            "एक सफेद पृष्ठभूमि पर हरी कैलक्यूलेटर अलग किया गया\n",
            "\n",
            "isolated cute elephant on a white background -index -  676\n",
            "एक सफेद पृष्ठभूमि पर प्यारा हाथी\n",
            "\n",
            "state flag waving on an isolated white background . -index -  535\n",
            "एक अलग सफेद पृष्ठभूमि पर राज्य ध्वज लहराते हुए।\n",
            "\n"
          ]
        }
      ]
    },
    {
      "cell_type": "markdown",
      "source": [
        "# Ranked retreival using log term weighting"
      ],
      "metadata": {
        "id": "yhxxLYa97E5g"
      }
    },
    {
      "cell_type": "code",
      "source": [
        "log_tf_dict = []"
      ],
      "metadata": {
        "id": "fWsaX_BD7OmY"
      },
      "execution_count": 35,
      "outputs": []
    },
    {
      "cell_type": "code",
      "source": [
        "def word_count_log(string_inp):\n",
        "  my_string = string_inp.lower().split()\n",
        "  my_dict = {}\n",
        "  for item in set(all_words):\n",
        "    if my_string.count(item) >= 1:\n",
        "      my_dict[item] = 1 + math.log(my_string.count(item),2)\n",
        "    else:\n",
        "      my_dict[item] = 0\n",
        "  return my_dict"
      ],
      "metadata": {
        "id": "wCR2whiV7jzp"
      },
      "execution_count": 36,
      "outputs": []
    },
    {
      "cell_type": "code",
      "source": [
        "log_tf_dict = list()\n",
        "# wf_dict = list()\n",
        "for i in range(N):\n",
        "  log_tf_dict.append(word_count_log(documents[i]))\n"
      ],
      "metadata": {
        "id": "QpbH5fQ57pUr"
      },
      "execution_count": 37,
      "outputs": []
    },
    {
      "cell_type": "code",
      "source": [
        "print(list(log_tf_dict[0].items())[:10])"
      ],
      "metadata": {
        "colab": {
          "base_uri": "https://localhost:8080/"
        },
        "id": "kJJGDTAT7xM_",
        "outputId": "bd3e65d5-0d7e-42dd-b7da-64daccaad174"
      },
      "execution_count": 38,
      "outputs": [
        {
          "output_type": "stream",
          "name": "stdout",
          "text": [
            "[('sunset', 0), ('me', 0), ('metal', 0), ('beginners', 0), ('located', 0), ('iconic', 0), ('skin', 0), ('cleaning', 0), ('camper', 0), ('medical', 0)]\n"
          ]
        }
      ]
    },
    {
      "cell_type": "code",
      "source": [
        "import copy\n",
        "log_weight =  copy.deepcopy(log_tf_dict)"
      ],
      "metadata": {
        "id": "we-t1Dw_7zef"
      },
      "execution_count": 39,
      "outputs": []
    },
    {
      "cell_type": "code",
      "source": [
        "print(list(idf_dic.items())[:10])"
      ],
      "metadata": {
        "colab": {
          "base_uri": "https://localhost:8080/"
        },
        "id": "vtqGU1Dq713d",
        "outputId": "b3afd38c-9a80-4579-8501-ab1c93b28a88"
      },
      "execution_count": 40,
      "outputs": [
        {
          "output_type": "stream",
          "name": "stdout",
          "text": [
            "[('sunset', 6.573466861883327), ('me', 8.158429362604483), ('metal', 8.158429362604483), ('beginners', 10.965784284662087), ('located', 7.965784284662087), ('iconic', 9.965784284662087), ('skin', 10.965784284662087), ('cleaning', 10.965784284662087), ('camper', 10.965784284662087), ('medical', 10.965784284662087)]\n"
          ]
        }
      ]
    },
    {
      "cell_type": "code",
      "source": [
        "i = 0\n",
        "for i in range(len(log_weight)):\n",
        "  for a,b in log_tf_dict[i].items():\n",
        "    log_weight[i][a] = b * idf_dic[a]"
      ],
      "metadata": {
        "id": "-Nwo251d7-dO"
      },
      "execution_count": 41,
      "outputs": []
    },
    {
      "cell_type": "code",
      "source": [
        "print(list(log_tf_dict[0].items())[:10])"
      ],
      "metadata": {
        "colab": {
          "base_uri": "https://localhost:8080/"
        },
        "id": "C6h4vYiy8EF4",
        "outputId": "b3f08b74-53c9-4718-e999-ddc5ce53e71c"
      },
      "execution_count": 42,
      "outputs": [
        {
          "output_type": "stream",
          "name": "stdout",
          "text": [
            "[('sunset', 0), ('me', 0), ('metal', 0), ('beginners', 0), ('located', 0), ('iconic', 0), ('skin', 0), ('cleaning', 0), ('camper', 0), ('medical', 0)]\n"
          ]
        }
      ]
    },
    {
      "cell_type": "code",
      "source": [
        "print(list(log_weight[0].items())[:10])"
      ],
      "metadata": {
        "colab": {
          "base_uri": "https://localhost:8080/"
        },
        "id": "BMcqOPs78GB1",
        "outputId": "afcbba8e-aedb-4dbf-ba39-3d621b4e5ab7"
      },
      "execution_count": 43,
      "outputs": [
        {
          "output_type": "stream",
          "name": "stdout",
          "text": [
            "[('sunset', 0.0), ('me', 0.0), ('metal', 0.0), ('beginners', 0.0), ('located', 0.0), ('iconic', 0.0), ('skin', 0.0), ('cleaning', 0.0), ('camper', 0.0), ('medical', 0.0)]\n"
          ]
        }
      ]
    },
    {
      "cell_type": "markdown",
      "source": [
        "# Query part"
      ],
      "metadata": {
        "id": "uBV7O19M8KG9"
      }
    },
    {
      "cell_type": "code",
      "source": [
        "log_tf_query = word_count_log(query)"
      ],
      "metadata": {
        "id": "-_dT_Rjr8L8E"
      },
      "execution_count": 44,
      "outputs": []
    },
    {
      "cell_type": "code",
      "source": [
        "log_wf_query = copy.deepcopy(log_tf_query)"
      ],
      "metadata": {
        "id": "JwaQH4gU8Rw0"
      },
      "execution_count": 45,
      "outputs": []
    },
    {
      "cell_type": "code",
      "source": [
        "for a,b in log_tf_query.items():\n",
        "    log_wf_query[a] = b * idf_dic[a]"
      ],
      "metadata": {
        "id": "aEC1kyrw8Tq5"
      },
      "execution_count": 46,
      "outputs": []
    },
    {
      "cell_type": "code",
      "source": [
        "def log_distance_comp(rn_dict):\n",
        "  dist = 0\n",
        "  for a,b in log_wf_query.items():\n",
        "    dist = dist + pow(b - rn_dict[a] , 2)\n",
        "  return math.sqrt(dist)"
      ],
      "metadata": {
        "id": "sb-5CE7o8YQO"
      },
      "execution_count": 47,
      "outputs": []
    },
    {
      "cell_type": "code",
      "source": [
        "dist_log = list()\n",
        "for i in range(N):\n",
        "  dist_log.append(log_distance_comp(log_weight[i]))"
      ],
      "metadata": {
        "id": "kVp1wGHP8bei"
      },
      "execution_count": 48,
      "outputs": []
    },
    {
      "cell_type": "markdown",
      "source": [
        "# Distance between other docs to the query"
      ],
      "metadata": {
        "id": "jSS39Bxd8hUa"
      }
    },
    {
      "cell_type": "code",
      "source": [
        "log_similarity_list = list()\n",
        "for i in range(N):\n",
        "  log_similarity_list.append(1 / (1 + dist_log[i]))\n"
      ],
      "metadata": {
        "id": "1WSwqi2c8iPv"
      },
      "execution_count": 49,
      "outputs": []
    },
    {
      "cell_type": "code",
      "source": [
        "for i in range(10):\n",
        "  print(log_similarity_list[i],end = \" \")"
      ],
      "metadata": {
        "colab": {
          "base_uri": "https://localhost:8080/"
        },
        "id": "FfGT2Z8L8mMt",
        "outputId": "6871646b-25cb-4524-e2a6-21da083d8165"
      },
      "execution_count": 50,
      "outputs": [
        {
          "output_type": "stream",
          "name": "stdout",
          "text": [
            "0.03988548512473719 0.028021168182270434 0.03717760253734139 0.03527413901182846 0.4055251343593272 0.030734071703917586 0.030365070769085293 0.03580707375115225 0.03367102939642128 0.03296724315774991 "
          ]
        }
      ]
    },
    {
      "cell_type": "markdown",
      "source": [
        "## **Top 10 Ranked documents for the given query using euclidean similarity measure**"
      ],
      "metadata": {
        "id": "i9HJSxsi8pQN"
      }
    },
    {
      "cell_type": "code",
      "source": [
        "print(\"GIVEN QUERY - \",query)\n",
        "print()\n",
        "print(\"--------Top 10 ranked documents-------\")\n",
        "print()\n",
        "import numpy \n",
        "log_array_similarity_list = numpy.array(log_similarity_list)\n",
        "log_sort_index = numpy.argsort(log_array_similarity_list)\n",
        "# print(sort_index)\n",
        "for i in range(len(log_sort_index)-1,len(log_sort_index)-11,-1):\n",
        "  # print(sort_index[i])\n",
        "  print(df.iloc[log_sort_index[i],0],\"- index - \",log_sort_index[i])\n",
        "  print(df.iloc[log_sort_index[i],1])\n",
        "  print()"
      ],
      "metadata": {
        "colab": {
          "base_uri": "https://localhost:8080/"
        },
        "id": "7bw5I-cQ8qM8",
        "outputId": "7a4e534f-4f50-4647-b154-483649e91eb1"
      },
      "execution_count": 51,
      "outputs": [
        {
          "output_type": "stream",
          "name": "stdout",
          "text": [
            "GIVEN QUERY -  cybernetic scene isolated on white background\n",
            "\n",
            "--------Top 10 ranked documents-------\n",
            "\n",
            "cybernetic scene isolated on white background . - index -  4\n",
            "साइबरनेटिक दृश्य सफेद पृष्ठभूमि पर अलग किया गया।\n",
            "\n",
            "vector illustration of person isolated on a white background - index -  61\n",
            "एक सफेद पृष्ठभूमि पर अलग व्यक्ति का वेक्टर चित्रण\n",
            "\n",
            "isolated water glass on a white background - index -  65\n",
            "एक सफेद पृष्ठभूमि पर पृथक पानी कांच\n",
            "\n",
            "wooden sign isolated on the white background . - index -  795\n",
            "सफेद पृष्ठभूमि पर अलग लकड़ी का संकेत।\n",
            "\n",
            "flowers left at the scene - index -  1118\n",
            "दृश्य दृश्य में छोड़ दिया\n",
            "\n",
            "black cat on a white background - index -  1006\n",
            "एक सफेद पृष्ठभूमि पर काली बिल्ली\n",
            "\n",
            "black bicycle isolated on a white background - index -  739\n",
            "एक सफेद पृष्ठभूमि पर काले साइकिल पृथक\n",
            "\n",
            "vector of a logo on a white background . - index -  208\n",
            "एक सफेद पृष्ठभूमि पर एक लोगो के वेक्टर।\n",
            "\n",
            "watercolor christmas tree isolated on a white background . - index -  552\n",
            "एक सफेद पृष्ठभूमि पर पानी के रंग का पेड़ पृथक।\n",
            "\n",
            "green calculator isolated on a white background - index -  1249\n",
            "एक सफेद पृष्ठभूमि पर हरी कैलक्यूलेटर अलग किया गया\n",
            "\n"
          ]
        }
      ]
    },
    {
      "cell_type": "markdown",
      "source": [
        "# **Cosine Similarity**"
      ],
      "metadata": {
        "id": "b654dH8nQhOP"
      }
    },
    {
      "cell_type": "code",
      "source": [
        "from scipy import spatial\n",
        "\n",
        "similarity_list_log_cosine = list()\n",
        "for i in range(N):\n",
        "  similarity_list_log_cosine.append(1 - spatial.distance.cosine(list(log_wf_query.values()), list(log_weight[i].values())))"
      ],
      "metadata": {
        "id": "1IQg1NAVQeMh"
      },
      "execution_count": 52,
      "outputs": []
    },
    {
      "cell_type": "code",
      "source": [
        "for i in range(10):\n",
        "  print(similarity_list_log_cosine[i],end = \" \")"
      ],
      "metadata": {
        "colab": {
          "base_uri": "https://localhost:8080/"
        },
        "id": "TomrvUiWQ-1g",
        "outputId": "2c185954-064d-45f3-a277-2041b17faf06"
      },
      "execution_count": 53,
      "outputs": [
        {
          "output_type": "stream",
          "name": "stdout",
          "text": [
            "0.0 0.0 0.0 0.0 0.9960871539584134 0.0 0.0 0.0 0.0 0.0 "
          ]
        }
      ]
    },
    {
      "cell_type": "code",
      "source": [
        "print(\"GIVEN QUERY - \",query)\n",
        "print()\n",
        "print(\"--------Top 10 ranked documents using cosine similarity-------\")\n",
        "print()\n",
        "import numpy \n",
        "array_similarity_list = numpy.array(similarity_list_log_cosine)\n",
        "sort_index = numpy.argsort(similarity_list_log_cosine)\n",
        "# print(sort_index)\n",
        "for i in range(len(sort_index)-1,len(sort_index)-11,-1):\n",
        "  # print(sort_index[i])\n",
        "  print(df.iloc[sort_index[i],0],\"-index - \",sort_index[i])\n",
        "  print(df.iloc[sort_index[i],1])\n",
        "  print()"
      ],
      "metadata": {
        "colab": {
          "base_uri": "https://localhost:8080/"
        },
        "id": "H-3llWYURNAP",
        "outputId": "72382eb5-33c0-4837-ad19-1f3902094364"
      },
      "execution_count": 54,
      "outputs": [
        {
          "output_type": "stream",
          "name": "stdout",
          "text": [
            "GIVEN QUERY -  cybernetic scene isolated on white background\n",
            "\n",
            "--------Top 10 ranked documents using cosine similarity-------\n",
            "\n",
            "cybernetic scene isolated on white background . -index -  4\n",
            "साइबरनेटिक दृश्य सफेद पृष्ठभूमि पर अलग किया गया।\n",
            "\n",
            "vector illustration of person isolated on a white background -index -  61\n",
            "एक सफेद पृष्ठभूमि पर अलग व्यक्ति का वेक्टर चित्रण\n",
            "\n",
            "isolated water glass on a white background -index -  65\n",
            "एक सफेद पृष्ठभूमि पर पृथक पानी कांच\n",
            "\n",
            "wooden sign isolated on the white background . -index -  795\n",
            "सफेद पृष्ठभूमि पर अलग लकड़ी का संकेत।\n",
            "\n",
            "flowers left at the scene -index -  1118\n",
            "दृश्य दृश्य में छोड़ दिया\n",
            "\n",
            "black bicycle isolated on a white background -index -  739\n",
            "एक सफेद पृष्ठभूमि पर काले साइकिल पृथक\n",
            "\n",
            "watercolor christmas tree isolated on a white background . -index -  552\n",
            "एक सफेद पृष्ठभूमि पर पानी के रंग का पेड़ पृथक।\n",
            "\n",
            "green calculator isolated on a white background -index -  1249\n",
            "एक सफेद पृष्ठभूमि पर हरी कैलक्यूलेटर अलग किया गया\n",
            "\n",
            "isolated cute elephant on a white background -index -  676\n",
            "एक सफेद पृष्ठभूमि पर प्यारा हाथी\n",
            "\n",
            "state flag waving on an isolated white background . -index -  535\n",
            "एक अलग सफेद पृष्ठभूमि पर राज्य ध्वज लहराते हुए।\n",
            "\n"
          ]
        }
      ]
    }
  ]
}